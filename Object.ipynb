{
 "cells": [
  {
   "cell_type": "code",
   "execution_count": 3,
   "id": "da164932",
   "metadata": {},
   "outputs": [],
   "source": [
    "import  cv2\n",
    "import matplotlib.pyplot as plt\n",
    "\n"
   ]
  },
  {
   "cell_type": "code",
   "execution_count": 12,
   "id": "2ed6e50e",
   "metadata": {},
   "outputs": [
    {
     "ename": "IndentationError",
     "evalue": "unindent does not match any outer indentation level (<tokenize>, line 16)",
     "output_type": "error",
     "traceback": [
      "\u001b[1;36m  File \u001b[1;32m<tokenize>:16\u001b[1;36m\u001b[0m\n\u001b[1;33m    train_ds,\u001b[0m\n\u001b[1;37m    ^\u001b[0m\n\u001b[1;31mIndentationError\u001b[0m\u001b[1;31m:\u001b[0m unindent does not match any outer indentation level\n"
     ]
    }
   ],
   "source": [
    "    tf.keras.layers.Rescaling(1./255),\n",
    "    tf.keras.layers.Conv2D(32, 3, padding='same', activation='relu'),\n",
    "    tf.keras.layers.MaxPooling2D(),\n",
    "    tf.keras.layers.Conv2D(64, 3, padding='same', activation='relu'),\n",
    "    tf.keras.layers.MaxPooling2D(),\n",
    "    tf.keras.layers.Flatten(),\n",
    "    tf.keras.layers.Dense(128, activation='relu'),\n",
    "    tf.keras.layers.Dense(2)\n",
    "    )\n",
    "\n",
    "model.compile(optimizer='adam',\n",
    "              loss=tf.keras.losses.SparseCategoricalCrossentropy(from_logits=True),\n",
    "              metrics=['accuracy'])\n",
    "\n",
    "model.fit(\n",
    "  train_ds,\n",
    "  validation_data=val_ds,\n",
    "  epochs=10\n",
    ")\n",
    "\n",
    "model.save('./')\n",
    "model = cv.dnn.readNetFromTensorflow('saved_model.pb')"
   ]
  },
  {
   "cell_type": "code",
   "execution_count": 4,
   "id": "848a3edf",
   "metadata": {},
   "outputs": [
    {
     "ename": "error",
     "evalue": "OpenCV(4.9.0) D:\\a\\opencv-python\\opencv-python\\opencv\\modules\\dnn\\src\\caffe\\caffe_io.cpp:1138: error: (-2:Unspecified error) FAILED: fs.is_open(). Can't open \"ssd_mobilenet/frozen_inference_graph.pb\" in function 'cv::dnn::ReadProtoFromBinaryFile'\n",
     "output_type": "error",
     "traceback": [
      "\u001b[1;31m---------------------------------------------------------------------------\u001b[0m",
      "\u001b[1;31merror\u001b[0m                                     Traceback (most recent call last)",
      "Cell \u001b[1;32mIn[4], line 3\u001b[0m\n\u001b[0;32m      1\u001b[0m config_file\u001b[38;5;241m=\u001b[39m\u001b[38;5;124m\"\u001b[39m\u001b[38;5;124mssd_mobilenet_v3_large_coco_2020_01_14.pbtxt\u001b[39m\u001b[38;5;124m\"\u001b[39m\n\u001b[0;32m      2\u001b[0m frozen_model\u001b[38;5;241m=\u001b[39m\u001b[38;5;124m\"\u001b[39m\u001b[38;5;124mssd_mobilenet/frozen_inference_graph.pb\u001b[39m\u001b[38;5;124m\"\u001b[39m\n\u001b[1;32m----> 3\u001b[0m net\u001b[38;5;241m=\u001b[39mcv2\u001b[38;5;241m.\u001b[39mdnn\u001b[38;5;241m.\u001b[39mreadNetFromTensorflow(frozen_model, config_file)\n",
      "\u001b[1;31merror\u001b[0m: OpenCV(4.9.0) D:\\a\\opencv-python\\opencv-python\\opencv\\modules\\dnn\\src\\caffe\\caffe_io.cpp:1138: error: (-2:Unspecified error) FAILED: fs.is_open(). Can't open \"ssd_mobilenet/frozen_inference_graph.pb\" in function 'cv::dnn::ReadProtoFromBinaryFile'\n"
     ]
    }
   ],
   "source": [
    "config_file=\"ssd_mobilenet_v3_large_coco_2020_01_14.pbtxt\"\n",
    "frozen_model=\"ssd_mobilenet/frozen_inference_graph.pb\"\n",
    "net=cv2.dnn.readNetFromTensorflow(frozen_model, config_file)"
   ]
  },
  {
   "cell_type": "code",
   "execution_count": null,
   "id": "eb8ca95e",
   "metadata": {},
   "outputs": [],
   "source": []
  },
  {
   "cell_type": "code",
   "execution_count": null,
   "id": "f710a98d",
   "metadata": {},
   "outputs": [],
   "source": []
  },
  {
   "cell_type": "code",
   "execution_count": null,
   "id": "f224a888",
   "metadata": {},
   "outputs": [],
   "source": [
    "\n",
    "img = cv2.imread(\"C:/Users/SCIENCE/Downloads/street.png\")\n",
    "plt.imshow(img)"
   ]
  },
  {
   "cell_type": "code",
   "execution_count": null,
   "id": "9b2fccbb",
   "metadata": {},
   "outputs": [],
   "source": [
    "model=cv2.dnn_DetectionModel(frozen_model,config_file)\n",
    "model"
   ]
  },
  {
   "cell_type": "markdown",
   "id": "c82ed63a",
   "metadata": {},
   "source": [
    "model=cv2.dnn.blobFromImage(img, 1/255, (320,320), (0,0,0), swapRB =True, crop=False)"
   ]
  },
  {
   "cell_type": "code",
   "execution_count": null,
   "id": "81e28e3c",
   "metadata": {},
   "outputs": [],
   "source": [
    "net=cv2.dnn.readNetFromTensorflow(config_file, frozen_model)\n",
    "model=cv2.dnn_DetectionModel(frozen_model,config_file)\n"
   ]
  },
  {
   "cell_type": "code",
   "execution_count": null,
   "id": "863b0982",
   "metadata": {},
   "outputs": [],
   "source": [
    "model=cv2.dnn.blobFromImage(img, 1/255, (320,320), (0,0,0), swapRB =True, crop=False)\n",
    "net=cv2.dnn.readNetFromTensorflow(config_file, frozen_model)\n",
    "net.setInput"
   ]
  },
  {
   "cell_type": "code",
   "execution_count": null,
   "id": "8325df89",
   "metadata": {},
   "outputs": [],
   "source": [
    "net=cv2.dnn.readNetFromTensorflow(config_file, frozen_model)\n",
    "net.setInput(model)"
   ]
  },
  {
   "cell_type": "code",
   "execution_count": null,
   "id": "10a58238",
   "metadata": {},
   "outputs": [],
   "source": [
    "model=cv2.dnn.blobFromImage(img, 1/255, (320,320), (0,0,0), swapRB =True, crop=False)\n",
    "model.setInputSize(320,320)\n",
    "model.setInputScale(1.0/127.5)\n",
    "model.setInputMean((127.5,127,5,127.5))"
   ]
  },
  {
   "cell_type": "code",
   "execution_count": null,
   "id": "341c9d10",
   "metadata": {},
   "outputs": [],
   "source": [
    "model1=cv2.dnn.blobFromImage(img, 1/255, (320,320), (0,0,0), swapRB =True, crop=False)\n",
    "ClassIndex, confidence, bbox = model1.detect(img, confThreshold=0.5)"
   ]
  },
  {
   "cell_type": "code",
   "execution_count": null,
   "id": "353c9ed8",
   "metadata": {},
   "outputs": [],
   "source": [
    "classl=[]\n",
    "nm=\"C:/Users/SCIENCE/Downloads/coco.txt\"\n",
    "with open(nm,\"rt\") as fpt:\n",
    "    classl=fpt=fpt.read().rstrip(\"\\n\").split(\"\\n\")\n",
    "classl  "
   ]
  },
  {
   "cell_type": "code",
   "execution_count": null,
   "id": "d71b1228",
   "metadata": {},
   "outputs": [],
   "source": [
    "font_scale=3\n",
    "font=cv2.FONT_HERSHEY_PLAIN\n",
    "for ClassInd, conf, boxes in zip(ClassIndex.flatten(), confidence.flatten(), bbox):\n",
    "    cv2.rectanle(img, boxes, (255,0,0), 2)\n",
    "    cv.putText(img, classl[ClassInd-1], (boxes[0]+10, boxes[1]+40), font, fontscale=font_scale, color=(0,255,0), thickness=3)\n",
    "    plt.imshow(cv2.cvtColor(img, cv2.COLOR_BGR2RGB))"
   ]
  },
  {
   "cell_type": "code",
   "execution_count": null,
   "id": "d745b251",
   "metadata": {},
   "outputs": [],
   "source": [
    "https://storage.googleapis.com/kagglesdsdata/datasets/81753/300187/office.jpg?X-Goog-Algorithm=GOOG4-RSA-SHA256&X-Goog-Credential=gcp-kaggle-com%40kagg\n",
    "    \n",
    "    \n",
    "    storage.googleapis.com/kagglesdsdata/datasets/81753/300187/office.jpg?X-Goog-Algorithm=GOOG4-RSA-SHA256&X-Goog-Credential=gcp-kaggle-com%40kagg"
   ]
  },
  {
   "cell_type": "code",
   "execution_count": null,
   "id": "bb6b85f3",
   "metadata": {},
   "outputs": [],
   "source": []
  },
  {
   "cell_type": "code",
   "execution_count": null,
   "id": "d47936d9",
   "metadata": {},
   "outputs": [],
   "source": []
  }
 ],
 "metadata": {
  "kernelspec": {
   "display_name": "Python 3 (ipykernel)",
   "language": "python",
   "name": "python3"
  },
  "language_info": {
   "codemirror_mode": {
    "name": "ipython",
    "version": 3
   },
   "file_extension": ".py",
   "mimetype": "text/x-python",
   "name": "python",
   "nbconvert_exporter": "python",
   "pygments_lexer": "ipython3",
   "version": "3.11.5"
  }
 },
 "nbformat": 4,
 "nbformat_minor": 5
}
