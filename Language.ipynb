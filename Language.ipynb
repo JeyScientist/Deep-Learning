{
 "cells": [
  {
   "cell_type": "code",
   "execution_count": 1,
   "id": "74459a8f",
   "metadata": {},
   "outputs": [],
   "source": [
    "from tkinter import *\n",
    "from tkinter import ttk\n",
    "from googletrans import Translator, LANGUAGES"
   ]
  },
  {
   "cell_type": "code",
   "execution_count": 2,
   "id": "832b8507",
   "metadata": {},
   "outputs": [],
   "source": [
    "root=Tk()\n",
    "root.geometry(\"1100x320\")\n",
    "root.resizable(0,0)\n",
    "root.iconbitmap(\"C:/Users/SCIENCE/Downloads/Ahdesign91-Icloud-Plain-Blue.512.png\")\n",
    "root[\"bg\"]=\"skyblue\"\n",
    "root.title(\"language translator\")\n",
    "Label(root, text=\"Language Translator\", font=\"Arial 20 bold\").pack()\n"
   ]
  },
  {
   "cell_type": "code",
   "execution_count": 3,
   "id": "40493e72",
   "metadata": {},
   "outputs": [],
   "source": [
    "Label(root, text=\"Enter Text\", font=\"arial 13 bold\", bg=\"white smoke\").place(x=165, y=90)\n"
   ]
  },
  {
   "cell_type": "code",
   "execution_count": 4,
   "id": "c563499b",
   "metadata": {},
   "outputs": [
    {
     "data": {
      "text/plain": [
       "''"
      ]
     },
     "execution_count": 4,
     "metadata": {},
     "output_type": "execute_result"
    }
   ],
   "source": [
    "Input_text=Entry(root, width=60)\n",
    "Input_text.place(x=30, y=130)\n",
    "Input_text.get()\n"
   ]
  },
  {
   "cell_type": "code",
   "execution_count": null,
   "id": "daa8d441",
   "metadata": {},
   "outputs": [
    {
     "name": "stderr",
     "output_type": "stream",
     "text": [
      "Exception in Tkinter callback\n",
      "Traceback (most recent call last):\n",
      "  File \"C:\\ProgramData\\anaconda3\\Lib\\tkinter\\__init__.py\", line 1948, in __call__\n",
      "    return self.func(*args)\n",
      "           ^^^^^^^^^^^^^^^^\n",
      "  File \"C:\\Users\\SCIENCE\\AppData\\Local\\Temp\\ipykernel_22884\\1202546039.py\", line 12, in Translate\n",
      "    translated = translator. translate(text=Input_text.get(), dest=dest_lang.get())\n",
      "                 ^^^^^^^^^^^^^^^^^^^^^^^^^^^^^^^^^^^^^^^^^^^^^^^^^^^^^^^^^^^^^^^^^^\n",
      "  File \"C:\\Users\\SCIENCE\\AppData\\Roaming\\Python\\Python311\\site-packages\\googletrans\\client.py\", line 182, in translate\n",
      "    data = self._translate(text, dest, src, kwargs)\n",
      "           ^^^^^^^^^^^^^^^^^^^^^^^^^^^^^^^^^^^^^^^^\n",
      "  File \"C:\\Users\\SCIENCE\\AppData\\Roaming\\Python\\Python311\\site-packages\\googletrans\\client.py\", line 78, in _translate\n",
      "    token = self.token_acquirer.do(text)\n",
      "            ^^^^^^^^^^^^^^^^^^^^^^^^^^^^\n",
      "  File \"C:\\Users\\SCIENCE\\AppData\\Roaming\\Python\\Python311\\site-packages\\googletrans\\gtoken.py\", line 194, in do\n",
      "    self._update()\n",
      "  File \"C:\\Users\\SCIENCE\\AppData\\Roaming\\Python\\Python311\\site-packages\\googletrans\\gtoken.py\", line 54, in _update\n",
      "    r = self.client.get(self.host)\n",
      "        ^^^^^^^^^^^^^^^^^^^^^^^^^^\n",
      "  File \"C:\\Users\\SCIENCE\\AppData\\Roaming\\Python\\Python311\\site-packages\\httpx\\_client.py\", line 755, in get\n",
      "    return self.request(\n",
      "           ^^^^^^^^^^^^^\n",
      "  File \"C:\\Users\\SCIENCE\\AppData\\Roaming\\Python\\Python311\\site-packages\\httpx\\_client.py\", line 600, in request\n",
      "    return self.send(\n",
      "           ^^^^^^^^^^\n",
      "  File \"C:\\Users\\SCIENCE\\AppData\\Roaming\\Python\\Python311\\site-packages\\httpx\\_client.py\", line 626, in send\n",
      "    response.read()\n",
      "  File \"C:\\Users\\SCIENCE\\AppData\\Roaming\\Python\\Python311\\site-packages\\httpx\\_models.py\", line 901, in read\n",
      "    self._content = b\"\".join([part for part in self.iter_bytes()])\n",
      "                             ^^^^^^^^^^^^^^^^^^^^^^^^^^^^^^^^^^^^\n",
      "  File \"C:\\Users\\SCIENCE\\AppData\\Roaming\\Python\\Python311\\site-packages\\httpx\\_models.py\", line 901, in <listcomp>\n",
      "    self._content = b\"\".join([part for part in self.iter_bytes()])\n",
      "                             ^^^^^^^^^^^^^^^^^^^^^^^^^^^^^^^^^^^^\n",
      "  File \"C:\\Users\\SCIENCE\\AppData\\Roaming\\Python\\Python311\\site-packages\\httpx\\_models.py\", line 912, in iter_bytes\n",
      "    for chunk in self.iter_raw():\n",
      "  File \"C:\\Users\\SCIENCE\\AppData\\Roaming\\Python\\Python311\\site-packages\\httpx\\_models.py\", line 945, in iter_raw\n",
      "    for part in self._raw_stream:\n",
      "  File \"C:\\Users\\SCIENCE\\AppData\\Roaming\\Python\\Python311\\site-packages\\httpcore\\_sync\\connection_pool.py\", line 49, in __iter__\n",
      "    for chunk in self.stream:\n",
      "  File \"C:\\Users\\SCIENCE\\AppData\\Roaming\\Python\\Python311\\site-packages\\httpcore\\_sync\\base.py\", line 57, in __iter__\n",
      "    for chunk in self.iterator:\n",
      "  File \"C:\\Users\\SCIENCE\\AppData\\Roaming\\Python\\Python311\\site-packages\\httpcore\\_sync\\http11.py\", line 128, in _receive_response_data\n",
      "    event = self._receive_event(timeout)\n",
      "            ^^^^^^^^^^^^^^^^^^^^^^^^^^^^\n",
      "  File \"C:\\Users\\SCIENCE\\AppData\\Roaming\\Python\\Python311\\site-packages\\httpcore\\_sync\\http11.py\", line 145, in _receive_event\n",
      "    data = self.socket.read(self.READ_NUM_BYTES, timeout)\n",
      "           ^^^^^^^^^^^^^^^^^^^^^^^^^^^^^^^^^^^^^^^^^^^^^^\n",
      "  File \"C:\\Users\\SCIENCE\\AppData\\Roaming\\Python\\Python311\\site-packages\\httpcore\\_backends\\sync.py\", line 60, in read\n",
      "    with map_exceptions(exc_map):\n",
      "  File \"C:\\ProgramData\\anaconda3\\Lib\\contextlib.py\", line 155, in __exit__\n",
      "    self.gen.throw(typ, value, traceback)\n",
      "  File \"C:\\Users\\SCIENCE\\AppData\\Roaming\\Python\\Python311\\site-packages\\httpcore\\_exceptions.py\", line 12, in map_exceptions\n",
      "    raise to_exc(exc) from None\n",
      "httpcore._exceptions.ReadTimeout: The read operation timed out\n"
     ]
    }
   ],
   "source": [
    "Label(root, text=\"Output\", font=\"arial 13 bold\", bg=\"white smoke\").place(x=700, y=90)\n",
    "Ouput_text=Text(root, font=\"arial 10\", height=6, wrap=WORD, padx=5, pady=5, width=50)\n",
    "Ouput_text.place(x=700, y=130)\n",
    "\n",
    "language=list(LANGUAGES.values())\n",
    "dest_lang=ttk.Combobox(root, values=language, width=22)\n",
    "dest_lang.place(x=130, y=180)\n",
    "dest_lang.set(\"choose language\")\n",
    "\n",
    "def Translate():\n",
    "    translator= Translator()\n",
    "    translated = translator. translate(text=Input_text.get(), dest=dest_lang.get())\n",
    "    Ouput_text.delete(1.0, END)\n",
    "    Ouput_text.insert(END, translated.text)\n",
    "    \n",
    "trans_btn=Button(root, text=\"Translate\", font=\"arial 12 bold\", pady=5, command=Translate, bg=\"orange\", activebackground=\"green\")\n",
    "trans_btn.place(x=445, y=180)\n",
    "\n",
    "root.mainloop()"
   ]
  },
  {
   "cell_type": "code",
   "execution_count": null,
   "id": "03e0a7ea",
   "metadata": {},
   "outputs": [],
   "source": []
  },
  {
   "cell_type": "code",
   "execution_count": null,
   "id": "8852187a",
   "metadata": {},
   "outputs": [],
   "source": []
  }
 ],
 "metadata": {
  "kernelspec": {
   "display_name": "Python 3 (ipykernel)",
   "language": "python",
   "name": "python3"
  },
  "language_info": {
   "codemirror_mode": {
    "name": "ipython",
    "version": 3
   },
   "file_extension": ".py",
   "mimetype": "text/x-python",
   "name": "python",
   "nbconvert_exporter": "python",
   "pygments_lexer": "ipython3",
   "version": "3.11.5"
  }
 },
 "nbformat": 4,
 "nbformat_minor": 5
}
